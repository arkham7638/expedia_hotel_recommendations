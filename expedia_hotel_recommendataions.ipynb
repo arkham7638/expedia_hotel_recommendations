{
 "cells": [
  {
   "cell_type": "markdown",
   "metadata": {},
   "source": [
    "# Expedia hotel recommendations with Apache Spark\n",
    "\n",
    "The size of the train set is 3.8 GB, with more than 37 million samples! That is why I will be using Pyspark instead of our favorite Pandas! When possible for visualization I will be using toPandas() command to convert pyspark dataframes to pandas. "
   ]
  },
  {
   "cell_type": "code",
   "execution_count": 1,
   "metadata": {},
   "outputs": [],
   "source": [
    "from pyspark.sql import SparkSession\n",
    "from pyspark.sql.functions import col\n",
    "import pyspark.sql\n",
    "import pandas as pd\n",
    "import numpy as np\n",
    "from matplotlib import pyplot as plt\n",
    "import numpy as np\n",
    "from pyspark.sql.functions import count\n",
    "import seaborn as sns"
   ]
  },
  {
   "cell_type": "code",
   "execution_count": 2,
   "metadata": {},
   "outputs": [],
   "source": [
    "spark = SparkSession.builder.getOrCreate()"
   ]
  },
  {
   "cell_type": "markdown",
   "metadata": {},
   "source": [
    "## 1. Import and Explore"
   ]
  },
  {
   "cell_type": "markdown",
   "metadata": {},
   "source": [
    "### 1.1. Import:"
   ]
  },
  {
   "cell_type": "code",
   "execution_count": 3,
   "metadata": {},
   "outputs": [],
   "source": [
    "train = spark.read.csv('../data/input/train.csv', header=True)\n",
    "test = spark.read.csv('../data/input/test.csv', header=True)"
   ]
  },
  {
   "cell_type": "markdown",
   "metadata": {},
   "source": [
    "### 1.2 Explore"
   ]
  },
  {
   "cell_type": "markdown",
   "metadata": {},
   "source": [
    "What attriutes we have?"
   ]
  },
  {
   "cell_type": "code",
   "execution_count": 4,
   "metadata": {},
   "outputs": [
    {
     "name": "stdout",
     "output_type": "stream",
     "text": [
      "root\n",
      " |-- date_time: string (nullable = true)\n",
      " |-- site_name: string (nullable = true)\n",
      " |-- posa_continent: string (nullable = true)\n",
      " |-- user_location_country: string (nullable = true)\n",
      " |-- user_location_region: string (nullable = true)\n",
      " |-- user_location_city: string (nullable = true)\n",
      " |-- orig_destination_distance: string (nullable = true)\n",
      " |-- user_id: string (nullable = true)\n",
      " |-- is_mobile: string (nullable = true)\n",
      " |-- is_package: string (nullable = true)\n",
      " |-- channel: string (nullable = true)\n",
      " |-- srch_ci: string (nullable = true)\n",
      " |-- srch_co: string (nullable = true)\n",
      " |-- srch_adults_cnt: string (nullable = true)\n",
      " |-- srch_children_cnt: string (nullable = true)\n",
      " |-- srch_rm_cnt: string (nullable = true)\n",
      " |-- srch_destination_id: string (nullable = true)\n",
      " |-- srch_destination_type_id: string (nullable = true)\n",
      " |-- is_booking: string (nullable = true)\n",
      " |-- cnt: string (nullable = true)\n",
      " |-- hotel_continent: string (nullable = true)\n",
      " |-- hotel_country: string (nullable = true)\n",
      " |-- hotel_market: string (nullable = true)\n",
      " |-- hotel_cluster: string (nullable = true)\n",
      "\n"
     ]
    }
   ],
   "source": [
    "train.printSchema()"
   ]
  },
  {
   "cell_type": "code",
   "execution_count": 5,
   "metadata": {},
   "outputs": [
    {
     "name": "stdout",
     "output_type": "stream",
     "text": [
      "root\n",
      " |-- id: string (nullable = true)\n",
      " |-- date_time: string (nullable = true)\n",
      " |-- site_name: string (nullable = true)\n",
      " |-- posa_continent: string (nullable = true)\n",
      " |-- user_location_country: string (nullable = true)\n",
      " |-- user_location_region: string (nullable = true)\n",
      " |-- user_location_city: string (nullable = true)\n",
      " |-- orig_destination_distance: string (nullable = true)\n",
      " |-- user_id: string (nullable = true)\n",
      " |-- is_mobile: string (nullable = true)\n",
      " |-- is_package: string (nullable = true)\n",
      " |-- channel: string (nullable = true)\n",
      " |-- srch_ci: string (nullable = true)\n",
      " |-- srch_co: string (nullable = true)\n",
      " |-- srch_adults_cnt: string (nullable = true)\n",
      " |-- srch_children_cnt: string (nullable = true)\n",
      " |-- srch_rm_cnt: string (nullable = true)\n",
      " |-- srch_destination_id: string (nullable = true)\n",
      " |-- srch_destination_type_id: string (nullable = true)\n",
      " |-- hotel_continent: string (nullable = true)\n",
      " |-- hotel_country: string (nullable = true)\n",
      " |-- hotel_market: string (nullable = true)\n",
      "\n"
     ]
    }
   ],
   "source": [
    "test.printSchema()"
   ]
  },
  {
   "cell_type": "markdown",
   "metadata": {},
   "source": [
    "How many samples does the train data include?"
   ]
  },
  {
   "cell_type": "code",
   "execution_count": 6,
   "metadata": {},
   "outputs": [
    {
     "name": "stdout",
     "output_type": "stream",
     "text": [
      "37670293\n"
     ]
    }
   ],
   "source": [
    "n_train = train.count()\n",
    "print(n_train)"
   ]
  },
  {
   "cell_type": "markdown",
   "metadata": {},
   "source": [
    "Quite big! Around 38 millions!"
   ]
  },
  {
   "cell_type": "markdown",
   "metadata": {},
   "source": [
    "How many samples does the test data include? "
   ]
  },
  {
   "cell_type": "code",
   "execution_count": 7,
   "metadata": {},
   "outputs": [
    {
     "data": {
      "text/plain": [
       "2528243"
      ]
     },
     "execution_count": 7,
     "metadata": {},
     "output_type": "execute_result"
    }
   ],
   "source": [
    "test.count()"
   ]
  },
  {
   "cell_type": "markdown",
   "metadata": {},
   "source": [
    "**First Visualization**:\n",
    "\n",
    "To see the first five rows of the train set, it is possible to use train.head(5) or train.show(5) (slightly better visualization), but still it can be quite hard to get a sense of the data. Instead, I use Pandas:"
   ]
  },
  {
   "cell_type": "code",
   "execution_count": 8,
   "metadata": {},
   "outputs": [
    {
     "data": {
      "text/html": [
       "<div>\n",
       "<style scoped>\n",
       "    .dataframe tbody tr th:only-of-type {\n",
       "        vertical-align: middle;\n",
       "    }\n",
       "\n",
       "    .dataframe tbody tr th {\n",
       "        vertical-align: top;\n",
       "    }\n",
       "\n",
       "    .dataframe thead th {\n",
       "        text-align: right;\n",
       "    }\n",
       "</style>\n",
       "<table border=\"1\" class=\"dataframe\">\n",
       "  <thead>\n",
       "    <tr style=\"text-align: right;\">\n",
       "      <th></th>\n",
       "      <th>date_time</th>\n",
       "      <th>site_name</th>\n",
       "      <th>posa_continent</th>\n",
       "      <th>user_location_country</th>\n",
       "      <th>user_location_region</th>\n",
       "      <th>user_location_city</th>\n",
       "      <th>orig_destination_distance</th>\n",
       "      <th>user_id</th>\n",
       "      <th>is_mobile</th>\n",
       "      <th>is_package</th>\n",
       "      <th>...</th>\n",
       "      <th>srch_children_cnt</th>\n",
       "      <th>srch_rm_cnt</th>\n",
       "      <th>srch_destination_id</th>\n",
       "      <th>srch_destination_type_id</th>\n",
       "      <th>is_booking</th>\n",
       "      <th>cnt</th>\n",
       "      <th>hotel_continent</th>\n",
       "      <th>hotel_country</th>\n",
       "      <th>hotel_market</th>\n",
       "      <th>hotel_cluster</th>\n",
       "    </tr>\n",
       "  </thead>\n",
       "  <tbody>\n",
       "    <tr>\n",
       "      <th>0</th>\n",
       "      <td>2014-08-11 07:46:59</td>\n",
       "      <td>2</td>\n",
       "      <td>3</td>\n",
       "      <td>66</td>\n",
       "      <td>348</td>\n",
       "      <td>48862</td>\n",
       "      <td>2234.2641</td>\n",
       "      <td>12</td>\n",
       "      <td>0</td>\n",
       "      <td>1</td>\n",
       "      <td>...</td>\n",
       "      <td>0</td>\n",
       "      <td>1</td>\n",
       "      <td>8250</td>\n",
       "      <td>1</td>\n",
       "      <td>0</td>\n",
       "      <td>3</td>\n",
       "      <td>2</td>\n",
       "      <td>50</td>\n",
       "      <td>628</td>\n",
       "      <td>1</td>\n",
       "    </tr>\n",
       "    <tr>\n",
       "      <th>1</th>\n",
       "      <td>2014-08-11 08:22:12</td>\n",
       "      <td>2</td>\n",
       "      <td>3</td>\n",
       "      <td>66</td>\n",
       "      <td>348</td>\n",
       "      <td>48862</td>\n",
       "      <td>2234.2641</td>\n",
       "      <td>12</td>\n",
       "      <td>0</td>\n",
       "      <td>1</td>\n",
       "      <td>...</td>\n",
       "      <td>0</td>\n",
       "      <td>1</td>\n",
       "      <td>8250</td>\n",
       "      <td>1</td>\n",
       "      <td>1</td>\n",
       "      <td>1</td>\n",
       "      <td>2</td>\n",
       "      <td>50</td>\n",
       "      <td>628</td>\n",
       "      <td>1</td>\n",
       "    </tr>\n",
       "    <tr>\n",
       "      <th>2</th>\n",
       "      <td>2014-08-11 08:24:33</td>\n",
       "      <td>2</td>\n",
       "      <td>3</td>\n",
       "      <td>66</td>\n",
       "      <td>348</td>\n",
       "      <td>48862</td>\n",
       "      <td>2234.2641</td>\n",
       "      <td>12</td>\n",
       "      <td>0</td>\n",
       "      <td>0</td>\n",
       "      <td>...</td>\n",
       "      <td>0</td>\n",
       "      <td>1</td>\n",
       "      <td>8250</td>\n",
       "      <td>1</td>\n",
       "      <td>0</td>\n",
       "      <td>1</td>\n",
       "      <td>2</td>\n",
       "      <td>50</td>\n",
       "      <td>628</td>\n",
       "      <td>1</td>\n",
       "    </tr>\n",
       "    <tr>\n",
       "      <th>3</th>\n",
       "      <td>2014-08-09 18:05:16</td>\n",
       "      <td>2</td>\n",
       "      <td>3</td>\n",
       "      <td>66</td>\n",
       "      <td>442</td>\n",
       "      <td>35390</td>\n",
       "      <td>913.1932</td>\n",
       "      <td>93</td>\n",
       "      <td>0</td>\n",
       "      <td>0</td>\n",
       "      <td>...</td>\n",
       "      <td>0</td>\n",
       "      <td>1</td>\n",
       "      <td>14984</td>\n",
       "      <td>1</td>\n",
       "      <td>0</td>\n",
       "      <td>1</td>\n",
       "      <td>2</td>\n",
       "      <td>50</td>\n",
       "      <td>1457</td>\n",
       "      <td>80</td>\n",
       "    </tr>\n",
       "    <tr>\n",
       "      <th>4</th>\n",
       "      <td>2014-08-09 18:08:18</td>\n",
       "      <td>2</td>\n",
       "      <td>3</td>\n",
       "      <td>66</td>\n",
       "      <td>442</td>\n",
       "      <td>35390</td>\n",
       "      <td>913.6259</td>\n",
       "      <td>93</td>\n",
       "      <td>0</td>\n",
       "      <td>0</td>\n",
       "      <td>...</td>\n",
       "      <td>0</td>\n",
       "      <td>1</td>\n",
       "      <td>14984</td>\n",
       "      <td>1</td>\n",
       "      <td>0</td>\n",
       "      <td>1</td>\n",
       "      <td>2</td>\n",
       "      <td>50</td>\n",
       "      <td>1457</td>\n",
       "      <td>21</td>\n",
       "    </tr>\n",
       "  </tbody>\n",
       "</table>\n",
       "<p>5 rows × 24 columns</p>\n",
       "</div>"
      ],
      "text/plain": [
       "             date_time site_name posa_continent user_location_country  \\\n",
       "0  2014-08-11 07:46:59         2              3                    66   \n",
       "1  2014-08-11 08:22:12         2              3                    66   \n",
       "2  2014-08-11 08:24:33         2              3                    66   \n",
       "3  2014-08-09 18:05:16         2              3                    66   \n",
       "4  2014-08-09 18:08:18         2              3                    66   \n",
       "\n",
       "  user_location_region user_location_city orig_destination_distance user_id  \\\n",
       "0                  348              48862                 2234.2641      12   \n",
       "1                  348              48862                 2234.2641      12   \n",
       "2                  348              48862                 2234.2641      12   \n",
       "3                  442              35390                  913.1932      93   \n",
       "4                  442              35390                  913.6259      93   \n",
       "\n",
       "  is_mobile is_package      ...      srch_children_cnt srch_rm_cnt  \\\n",
       "0         0          1      ...                      0           1   \n",
       "1         0          1      ...                      0           1   \n",
       "2         0          0      ...                      0           1   \n",
       "3         0          0      ...                      0           1   \n",
       "4         0          0      ...                      0           1   \n",
       "\n",
       "  srch_destination_id srch_destination_type_id is_booking cnt hotel_continent  \\\n",
       "0                8250                        1          0   3               2   \n",
       "1                8250                        1          1   1               2   \n",
       "2                8250                        1          0   1               2   \n",
       "3               14984                        1          0   1               2   \n",
       "4               14984                        1          0   1               2   \n",
       "\n",
       "  hotel_country hotel_market hotel_cluster  \n",
       "0            50          628             1  \n",
       "1            50          628             1  \n",
       "2            50          628             1  \n",
       "3            50         1457            80  \n",
       "4            50         1457            21  \n",
       "\n",
       "[5 rows x 24 columns]"
      ]
     },
     "execution_count": 8,
     "metadata": {},
     "output_type": "execute_result"
    }
   ],
   "source": [
    "pd.DataFrame(train.head(5), columns=train.columns)"
   ]
  },
  {
   "cell_type": "markdown",
   "metadata": {},
   "source": [
    "Similarly, for .describe():"
   ]
  },
  {
   "cell_type": "code",
   "execution_count": 9,
   "metadata": {},
   "outputs": [
    {
     "data": {
      "text/html": [
       "<div>\n",
       "<style scoped>\n",
       "    .dataframe tbody tr th:only-of-type {\n",
       "        vertical-align: middle;\n",
       "    }\n",
       "\n",
       "    .dataframe tbody tr th {\n",
       "        vertical-align: top;\n",
       "    }\n",
       "\n",
       "    .dataframe thead th {\n",
       "        text-align: right;\n",
       "    }\n",
       "</style>\n",
       "<table border=\"1\" class=\"dataframe\">\n",
       "  <thead>\n",
       "    <tr style=\"text-align: right;\">\n",
       "      <th></th>\n",
       "      <th>summary</th>\n",
       "      <th>date_time</th>\n",
       "      <th>site_name</th>\n",
       "      <th>posa_continent</th>\n",
       "      <th>user_location_country</th>\n",
       "      <th>user_location_region</th>\n",
       "      <th>user_location_city</th>\n",
       "      <th>orig_destination_distance</th>\n",
       "      <th>user_id</th>\n",
       "      <th>is_mobile</th>\n",
       "      <th>...</th>\n",
       "      <th>srch_children_cnt</th>\n",
       "      <th>srch_rm_cnt</th>\n",
       "      <th>srch_destination_id</th>\n",
       "      <th>srch_destination_type_id</th>\n",
       "      <th>is_booking</th>\n",
       "      <th>cnt</th>\n",
       "      <th>hotel_continent</th>\n",
       "      <th>hotel_country</th>\n",
       "      <th>hotel_market</th>\n",
       "      <th>hotel_cluster</th>\n",
       "    </tr>\n",
       "  </thead>\n",
       "  <tbody>\n",
       "    <tr>\n",
       "      <th>0</th>\n",
       "      <td>count</td>\n",
       "      <td>37670293</td>\n",
       "      <td>37670293</td>\n",
       "      <td>37670293</td>\n",
       "      <td>37670293</td>\n",
       "      <td>37670293</td>\n",
       "      <td>37670293</td>\n",
       "      <td>24145292</td>\n",
       "      <td>37670293</td>\n",
       "      <td>37670293</td>\n",
       "      <td>...</td>\n",
       "      <td>37670293</td>\n",
       "      <td>37670293</td>\n",
       "      <td>37670293</td>\n",
       "      <td>37670293</td>\n",
       "      <td>37670293</td>\n",
       "      <td>37670293</td>\n",
       "      <td>37670293</td>\n",
       "      <td>37670293</td>\n",
       "      <td>37670293</td>\n",
       "      <td>37670293</td>\n",
       "    </tr>\n",
       "    <tr>\n",
       "      <th>1</th>\n",
       "      <td>mean</td>\n",
       "      <td>None</td>\n",
       "      <td>9.795271329585889</td>\n",
       "      <td>2.6804730188851997</td>\n",
       "      <td>86.10880194109454</td>\n",
       "      <td>308.4060117610447</td>\n",
       "      <td>27753.044729330883</td>\n",
       "      <td>1970.0900267207285</td>\n",
       "      <td>604451.7531778422</td>\n",
       "      <td>0.1349265056154461</td>\n",
       "      <td>...</td>\n",
       "      <td>0.3321221579030458</td>\n",
       "      <td>1.1126628083301608</td>\n",
       "      <td>14441.090543760836</td>\n",
       "      <td>2.5822799148389954</td>\n",
       "      <td>0.07965674702875288</td>\n",
       "      <td>1.4833839227106622</td>\n",
       "      <td>3.1563047837190967</td>\n",
       "      <td>81.29685165974153</td>\n",
       "      <td>600.461883638654</td>\n",
       "      <td>49.80860501934509</td>\n",
       "    </tr>\n",
       "    <tr>\n",
       "      <th>2</th>\n",
       "      <td>stddev</td>\n",
       "      <td>None</td>\n",
       "      <td>11.9675435665128</td>\n",
       "      <td>0.7480393482506577</td>\n",
       "      <td>59.24310334783878</td>\n",
       "      <td>208.44374973856722</td>\n",
       "      <td>16782.553195680346</td>\n",
       "      <td>2232.4424303904275</td>\n",
       "      <td>350617.4620408585</td>\n",
       "      <td>0.34164505966916764</td>\n",
       "      <td>...</td>\n",
       "      <td>0.7314980986397146</td>\n",
       "      <td>0.45911549963856946</td>\n",
       "      <td>11066.302332627309</td>\n",
       "      <td>2.153018959399955</td>\n",
       "      <td>0.2707610600283715</td>\n",
       "      <td>1.2197755786558424</td>\n",
       "      <td>1.6231886782105662</td>\n",
       "      <td>56.171188062887815</td>\n",
       "      <td>511.73912727922396</td>\n",
       "      <td>28.915950805004293</td>\n",
       "    </tr>\n",
       "    <tr>\n",
       "      <th>3</th>\n",
       "      <td>min</td>\n",
       "      <td>2013-01-07 00:00:02</td>\n",
       "      <td>10</td>\n",
       "      <td>0</td>\n",
       "      <td>0</td>\n",
       "      <td>0</td>\n",
       "      <td>0</td>\n",
       "      <td>0.0056</td>\n",
       "      <td>0</td>\n",
       "      <td>0</td>\n",
       "      <td>...</td>\n",
       "      <td>0</td>\n",
       "      <td>0</td>\n",
       "      <td>0</td>\n",
       "      <td>0</td>\n",
       "      <td>0</td>\n",
       "      <td>1</td>\n",
       "      <td>0</td>\n",
       "      <td>0</td>\n",
       "      <td>0</td>\n",
       "      <td>0</td>\n",
       "    </tr>\n",
       "    <tr>\n",
       "      <th>4</th>\n",
       "      <td>max</td>\n",
       "      <td>2014-12-31 23:59:59</td>\n",
       "      <td>9</td>\n",
       "      <td>4</td>\n",
       "      <td>99</td>\n",
       "      <td>999</td>\n",
       "      <td>9998</td>\n",
       "      <td>9999.9984</td>\n",
       "      <td>999999</td>\n",
       "      <td>1</td>\n",
       "      <td>...</td>\n",
       "      <td>9</td>\n",
       "      <td>8</td>\n",
       "      <td>9999</td>\n",
       "      <td>9</td>\n",
       "      <td>1</td>\n",
       "      <td>99</td>\n",
       "      <td>6</td>\n",
       "      <td>99</td>\n",
       "      <td>999</td>\n",
       "      <td>99</td>\n",
       "    </tr>\n",
       "  </tbody>\n",
       "</table>\n",
       "<p>5 rows × 25 columns</p>\n",
       "</div>"
      ],
      "text/plain": [
       "  summary            date_time          site_name      posa_continent  \\\n",
       "0   count             37670293           37670293            37670293   \n",
       "1    mean                 None  9.795271329585889  2.6804730188851997   \n",
       "2  stddev                 None   11.9675435665128  0.7480393482506577   \n",
       "3     min  2013-01-07 00:00:02                 10                   0   \n",
       "4     max  2014-12-31 23:59:59                  9                   4   \n",
       "\n",
       "  user_location_country user_location_region  user_location_city  \\\n",
       "0              37670293             37670293            37670293   \n",
       "1     86.10880194109454    308.4060117610447  27753.044729330883   \n",
       "2     59.24310334783878   208.44374973856722  16782.553195680346   \n",
       "3                     0                    0                   0   \n",
       "4                    99                  999                9998   \n",
       "\n",
       "  orig_destination_distance            user_id            is_mobile  \\\n",
       "0                  24145292           37670293             37670293   \n",
       "1        1970.0900267207285  604451.7531778422   0.1349265056154461   \n",
       "2        2232.4424303904275  350617.4620408585  0.34164505966916764   \n",
       "3                    0.0056                  0                    0   \n",
       "4                 9999.9984             999999                    1   \n",
       "\n",
       "          ...           srch_children_cnt          srch_rm_cnt  \\\n",
       "0         ...                    37670293             37670293   \n",
       "1         ...          0.3321221579030458   1.1126628083301608   \n",
       "2         ...          0.7314980986397146  0.45911549963856946   \n",
       "3         ...                           0                    0   \n",
       "4         ...                           9                    8   \n",
       "\n",
       "  srch_destination_id srch_destination_type_id           is_booking  \\\n",
       "0            37670293                 37670293             37670293   \n",
       "1  14441.090543760836       2.5822799148389954  0.07965674702875288   \n",
       "2  11066.302332627309        2.153018959399955   0.2707610600283715   \n",
       "3                   0                        0                    0   \n",
       "4                9999                        9                    1   \n",
       "\n",
       "                  cnt     hotel_continent       hotel_country  \\\n",
       "0            37670293            37670293            37670293   \n",
       "1  1.4833839227106622  3.1563047837190967   81.29685165974153   \n",
       "2  1.2197755786558424  1.6231886782105662  56.171188062887815   \n",
       "3                   1                   0                   0   \n",
       "4                  99                   6                  99   \n",
       "\n",
       "         hotel_market       hotel_cluster  \n",
       "0            37670293            37670293  \n",
       "1    600.461883638654   49.80860501934509  \n",
       "2  511.73912727922396  28.915950805004293  \n",
       "3                   0                   0  \n",
       "4                 999                  99  \n",
       "\n",
       "[5 rows x 25 columns]"
      ]
     },
     "execution_count": 9,
     "metadata": {},
     "output_type": "execute_result"
    }
   ],
   "source": [
    "train.describe().toPandas()"
   ]
  },
  {
   "cell_type": "markdown",
   "metadata": {},
   "source": [
    "What are the feature types? "
   ]
  },
  {
   "cell_type": "code",
   "execution_count": 10,
   "metadata": {},
   "outputs": [
    {
     "data": {
      "text/plain": [
       "[('date_time', 'string'),\n",
       " ('site_name', 'string'),\n",
       " ('posa_continent', 'string'),\n",
       " ('user_location_country', 'string'),\n",
       " ('user_location_region', 'string'),\n",
       " ('user_location_city', 'string'),\n",
       " ('orig_destination_distance', 'string'),\n",
       " ('user_id', 'string'),\n",
       " ('is_mobile', 'string'),\n",
       " ('is_package', 'string'),\n",
       " ('channel', 'string'),\n",
       " ('srch_ci', 'string'),\n",
       " ('srch_co', 'string'),\n",
       " ('srch_adults_cnt', 'string'),\n",
       " ('srch_children_cnt', 'string'),\n",
       " ('srch_rm_cnt', 'string'),\n",
       " ('srch_destination_id', 'string'),\n",
       " ('srch_destination_type_id', 'string'),\n",
       " ('is_booking', 'string'),\n",
       " ('cnt', 'string'),\n",
       " ('hotel_continent', 'string'),\n",
       " ('hotel_country', 'string'),\n",
       " ('hotel_market', 'string'),\n",
       " ('hotel_cluster', 'string')]"
      ]
     },
     "execution_count": 10,
     "metadata": {},
     "output_type": "execute_result"
    }
   ],
   "source": [
    "train.dtypes"
   ]
  },
  {
   "cell_type": "markdown",
   "metadata": {},
   "source": [
    "The read.csv() function of pyspark read all the features as string! So, we convert them appropriately:"
   ]
  },
  {
   "cell_type": "code",
   "execution_count": 12,
   "metadata": {},
   "outputs": [
    {
     "name": "stdout",
     "output_type": "stream",
     "text": [
      "['date_time', 'site_name', 'posa_continent', 'user_location_country', 'user_location_region', 'user_location_city', 'orig_destination_distance', 'user_id', 'is_mobile', 'is_package', 'channel', 'srch_ci', 'srch_co', 'srch_adults_cnt', 'srch_children_cnt', 'srch_rm_cnt', 'srch_destination_id', 'srch_destination_type_id', 'is_booking', 'cnt', 'hotel_continent', 'hotel_country', 'hotel_market', 'hotel_cluster'] \n",
      "\n",
      "The train set has 24 columns.\n"
     ]
    }
   ],
   "source": [
    "print(train.columns, \"\\n\")\n",
    "print(\"The train set has\", len(train.columns), \"columns.\")"
   ]
  },
  {
   "cell_type": "code",
   "execution_count": 13,
   "metadata": {},
   "outputs": [],
   "source": [
    "int_columns = ['site_name', 'posa_continent', 'user_location_country', 'user_location_region', 'user_location_city', \n",
    "               'user_id', 'is_mobile', 'is_package', 'channel', 'srch_adults_cnt', 'srch_children_cnt', 'srch_rm_cnt',\n",
    "               'srch_destination_id', 'srch_destination_type_id', 'is_booking', 'cnt', 'hotel_continent', 'hotel_country', \n",
    "               'hotel_market', 'hotel_cluster']\n",
    "float_columns = ['orig_destination_distance']\n",
    "date_columns = ['date_time', 'srch_ci', 'srch_co']"
   ]
  },
  {
   "cell_type": "code",
   "execution_count": 14,
   "metadata": {},
   "outputs": [],
   "source": [
    "for i in range(len(int_columns)):\n",
    "    train = train.withColumn(int_columns[i], train[int_columns[i]].astype('int'))\n",
    "for i in range(len(float_columns)):\n",
    "    train = train.withColumn(float_columns[i], train[float_columns[i]].astype('float'))"
   ]
  },
  {
   "cell_type": "markdown",
   "metadata": {},
   "source": [
    "Let's now check the types:"
   ]
  },
  {
   "cell_type": "code",
   "execution_count": 15,
   "metadata": {},
   "outputs": [
    {
     "data": {
      "text/plain": [
       "[('date_time', 'string'),\n",
       " ('site_name', 'int'),\n",
       " ('posa_continent', 'int'),\n",
       " ('user_location_country', 'int'),\n",
       " ('user_location_region', 'int'),\n",
       " ('user_location_city', 'int'),\n",
       " ('orig_destination_distance', 'float'),\n",
       " ('user_id', 'int'),\n",
       " ('is_mobile', 'int'),\n",
       " ('is_package', 'int'),\n",
       " ('channel', 'int'),\n",
       " ('srch_ci', 'string'),\n",
       " ('srch_co', 'string'),\n",
       " ('srch_adults_cnt', 'int'),\n",
       " ('srch_children_cnt', 'int'),\n",
       " ('srch_rm_cnt', 'int'),\n",
       " ('srch_destination_id', 'int'),\n",
       " ('srch_destination_type_id', 'int'),\n",
       " ('is_booking', 'int'),\n",
       " ('cnt', 'int'),\n",
       " ('hotel_continent', 'int'),\n",
       " ('hotel_country', 'int'),\n",
       " ('hotel_market', 'int'),\n",
       " ('hotel_cluster', 'int')]"
      ]
     },
     "execution_count": 15,
     "metadata": {},
     "output_type": "execute_result"
    }
   ],
   "source": [
    "train.dtypes"
   ]
  },
  {
   "cell_type": "markdown",
   "metadata": {},
   "source": [
    "** How many are really booking? **"
   ]
  },
  {
   "cell_type": "code",
   "execution_count": 16,
   "metadata": {},
   "outputs": [
    {
     "data": {
      "text/plain": [
       "3000693"
      ]
     },
     "execution_count": 16,
     "metadata": {},
     "output_type": "execute_result"
    }
   ],
   "source": [
    "train.where(train.is_booking == 1).count()"
   ]
  },
  {
   "cell_type": "markdown",
   "metadata": {},
   "source": [
    "Only around 3 millions of the 38 millions data 'booked', and the rest where only a click! So chance of booking when click is:"
   ]
  },
  {
   "cell_type": "code",
   "execution_count": 17,
   "metadata": {},
   "outputs": [
    {
     "name": "stdout",
     "output_type": "stream",
     "text": [
      "7.965674702875288 %\n"
     ]
    }
   ],
   "source": [
    "print(train.where(train.is_booking == 1).count() / train[train.is_booking.isNotNull()].count() * 100, '%')"
   ]
  },
  {
   "cell_type": "markdown",
   "metadata": {},
   "source": [
    "So, only **8%** of the train data is booking and the rest are clicks! "
   ]
  },
  {
   "cell_type": "code",
   "execution_count": 18,
   "metadata": {},
   "outputs": [
    {
     "name": "stdout",
     "output_type": "stream",
     "text": [
      "train data summary:\n",
      " 237 user countries\n",
      " 50447 user cities\n",
      " 213 hotel countries\n",
      " 100 hotel clusters\n",
      " 10 search destination types\n",
      " 1198786 distinct users\n"
     ]
    }
   ],
   "source": [
    "print(\"train data summary:\\n\",\n",
    "      train.select('user_location_country').distinct().count(), \"user countries\\n\", \n",
    "      train.select('user_location_city').distinct().count(), \"user cities\\n\", \n",
    "      train.select('hotel_country').distinct().count(), \"hotel countries\\n\",\n",
    "      train.select('hotel_cluster').distinct().count(), \"hotel clusters\\n\",\n",
    "      train.select('srch_destination_type_id').distinct().count(), \"search destination types\\n\", \n",
    "      train.select('user_id').distinct().count(), \"distinct users\")"
   ]
  },
  {
   "cell_type": "markdown",
   "metadata": {},
   "source": [
    "So only ~1.2 millions users generate the ~38 millions logs!"
   ]
  },
  {
   "cell_type": "markdown",
   "metadata": {},
   "source": [
    "Are there any users in common in train-test sets? "
   ]
  },
  {
   "cell_type": "markdown",
   "metadata": {},
   "source": [
    "Since there exists only 1.2 different users and average cnt (number of clicks in a Session) is only ~1.5, that would mean that the logs of the same users has been recorded in different sessions or different srch_destination_ids. "
   ]
  },
  {
   "cell_type": "code",
   "execution_count": 20,
   "metadata": {},
   "outputs": [
    {
     "data": {
      "text/html": [
       "<div>\n",
       "<style scoped>\n",
       "    .dataframe tbody tr th:only-of-type {\n",
       "        vertical-align: middle;\n",
       "    }\n",
       "\n",
       "    .dataframe tbody tr th {\n",
       "        vertical-align: top;\n",
       "    }\n",
       "\n",
       "    .dataframe thead th {\n",
       "        text-align: right;\n",
       "    }\n",
       "</style>\n",
       "<table border=\"1\" class=\"dataframe\">\n",
       "  <thead>\n",
       "    <tr style=\"text-align: right;\">\n",
       "      <th></th>\n",
       "      <th>date_time</th>\n",
       "      <th>site_name</th>\n",
       "      <th>posa_continent</th>\n",
       "      <th>user_location_country</th>\n",
       "      <th>user_location_region</th>\n",
       "      <th>user_location_city</th>\n",
       "      <th>orig_destination_distance</th>\n",
       "      <th>user_id</th>\n",
       "      <th>is_mobile</th>\n",
       "      <th>is_package</th>\n",
       "      <th>...</th>\n",
       "      <th>srch_children_cnt</th>\n",
       "      <th>srch_rm_cnt</th>\n",
       "      <th>srch_destination_id</th>\n",
       "      <th>srch_destination_type_id</th>\n",
       "      <th>is_booking</th>\n",
       "      <th>cnt</th>\n",
       "      <th>hotel_continent</th>\n",
       "      <th>hotel_country</th>\n",
       "      <th>hotel_market</th>\n",
       "      <th>hotel_cluster</th>\n",
       "    </tr>\n",
       "  </thead>\n",
       "  <tbody>\n",
       "    <tr>\n",
       "      <th>0</th>\n",
       "      <td>2014-08-11 07:46:59</td>\n",
       "      <td>2</td>\n",
       "      <td>3</td>\n",
       "      <td>66</td>\n",
       "      <td>348</td>\n",
       "      <td>48862</td>\n",
       "      <td>2234.264160</td>\n",
       "      <td>12</td>\n",
       "      <td>0</td>\n",
       "      <td>1</td>\n",
       "      <td>...</td>\n",
       "      <td>0</td>\n",
       "      <td>1</td>\n",
       "      <td>8250</td>\n",
       "      <td>1</td>\n",
       "      <td>0</td>\n",
       "      <td>3</td>\n",
       "      <td>2</td>\n",
       "      <td>50</td>\n",
       "      <td>628</td>\n",
       "      <td>1</td>\n",
       "    </tr>\n",
       "    <tr>\n",
       "      <th>1</th>\n",
       "      <td>2014-08-11 08:22:12</td>\n",
       "      <td>2</td>\n",
       "      <td>3</td>\n",
       "      <td>66</td>\n",
       "      <td>348</td>\n",
       "      <td>48862</td>\n",
       "      <td>2234.264160</td>\n",
       "      <td>12</td>\n",
       "      <td>0</td>\n",
       "      <td>1</td>\n",
       "      <td>...</td>\n",
       "      <td>0</td>\n",
       "      <td>1</td>\n",
       "      <td>8250</td>\n",
       "      <td>1</td>\n",
       "      <td>1</td>\n",
       "      <td>1</td>\n",
       "      <td>2</td>\n",
       "      <td>50</td>\n",
       "      <td>628</td>\n",
       "      <td>1</td>\n",
       "    </tr>\n",
       "    <tr>\n",
       "      <th>2</th>\n",
       "      <td>2014-08-11 08:24:33</td>\n",
       "      <td>2</td>\n",
       "      <td>3</td>\n",
       "      <td>66</td>\n",
       "      <td>348</td>\n",
       "      <td>48862</td>\n",
       "      <td>2234.264160</td>\n",
       "      <td>12</td>\n",
       "      <td>0</td>\n",
       "      <td>0</td>\n",
       "      <td>...</td>\n",
       "      <td>0</td>\n",
       "      <td>1</td>\n",
       "      <td>8250</td>\n",
       "      <td>1</td>\n",
       "      <td>0</td>\n",
       "      <td>1</td>\n",
       "      <td>2</td>\n",
       "      <td>50</td>\n",
       "      <td>628</td>\n",
       "      <td>1</td>\n",
       "    </tr>\n",
       "    <tr>\n",
       "      <th>3</th>\n",
       "      <td>2014-08-09 18:05:16</td>\n",
       "      <td>2</td>\n",
       "      <td>3</td>\n",
       "      <td>66</td>\n",
       "      <td>442</td>\n",
       "      <td>35390</td>\n",
       "      <td>913.193176</td>\n",
       "      <td>93</td>\n",
       "      <td>0</td>\n",
       "      <td>0</td>\n",
       "      <td>...</td>\n",
       "      <td>0</td>\n",
       "      <td>1</td>\n",
       "      <td>14984</td>\n",
       "      <td>1</td>\n",
       "      <td>0</td>\n",
       "      <td>1</td>\n",
       "      <td>2</td>\n",
       "      <td>50</td>\n",
       "      <td>1457</td>\n",
       "      <td>80</td>\n",
       "    </tr>\n",
       "    <tr>\n",
       "      <th>4</th>\n",
       "      <td>2014-08-09 18:08:18</td>\n",
       "      <td>2</td>\n",
       "      <td>3</td>\n",
       "      <td>66</td>\n",
       "      <td>442</td>\n",
       "      <td>35390</td>\n",
       "      <td>913.625916</td>\n",
       "      <td>93</td>\n",
       "      <td>0</td>\n",
       "      <td>0</td>\n",
       "      <td>...</td>\n",
       "      <td>0</td>\n",
       "      <td>1</td>\n",
       "      <td>14984</td>\n",
       "      <td>1</td>\n",
       "      <td>0</td>\n",
       "      <td>1</td>\n",
       "      <td>2</td>\n",
       "      <td>50</td>\n",
       "      <td>1457</td>\n",
       "      <td>21</td>\n",
       "    </tr>\n",
       "  </tbody>\n",
       "</table>\n",
       "<p>5 rows × 24 columns</p>\n",
       "</div>"
      ],
      "text/plain": [
       "             date_time  site_name  posa_continent  user_location_country  \\\n",
       "0  2014-08-11 07:46:59          2               3                     66   \n",
       "1  2014-08-11 08:22:12          2               3                     66   \n",
       "2  2014-08-11 08:24:33          2               3                     66   \n",
       "3  2014-08-09 18:05:16          2               3                     66   \n",
       "4  2014-08-09 18:08:18          2               3                     66   \n",
       "\n",
       "   user_location_region  user_location_city  orig_destination_distance  \\\n",
       "0                   348               48862                2234.264160   \n",
       "1                   348               48862                2234.264160   \n",
       "2                   348               48862                2234.264160   \n",
       "3                   442               35390                 913.193176   \n",
       "4                   442               35390                 913.625916   \n",
       "\n",
       "   user_id  is_mobile  is_package      ...        srch_children_cnt  \\\n",
       "0       12          0           1      ...                        0   \n",
       "1       12          0           1      ...                        0   \n",
       "2       12          0           0      ...                        0   \n",
       "3       93          0           0      ...                        0   \n",
       "4       93          0           0      ...                        0   \n",
       "\n",
       "  srch_rm_cnt srch_destination_id  srch_destination_type_id  is_booking  cnt  \\\n",
       "0           1                8250                         1           0    3   \n",
       "1           1                8250                         1           1    1   \n",
       "2           1                8250                         1           0    1   \n",
       "3           1               14984                         1           0    1   \n",
       "4           1               14984                         1           0    1   \n",
       "\n",
       "   hotel_continent  hotel_country  hotel_market  hotel_cluster  \n",
       "0                2             50           628              1  \n",
       "1                2             50           628              1  \n",
       "2                2             50           628              1  \n",
       "3                2             50          1457             80  \n",
       "4                2             50          1457             21  \n",
       "\n",
       "[5 rows x 24 columns]"
      ]
     },
     "execution_count": 20,
     "metadata": {},
     "output_type": "execute_result"
    }
   ],
   "source": [
    "pd.DataFrame(train.head(5), columns=train.columns)"
   ]
  },
  {
   "cell_type": "code",
   "execution_count": 21,
   "metadata": {},
   "outputs": [],
   "source": [
    "train.select('is_booking').rdd.map(lambda row : row.is_booking).take(30);"
   ]
  },
  {
   "cell_type": "code",
   "execution_count": 22,
   "metadata": {
    "scrolled": true
   },
   "outputs": [
    {
     "data": {
      "text/html": [
       "<div>\n",
       "<style scoped>\n",
       "    .dataframe tbody tr th:only-of-type {\n",
       "        vertical-align: middle;\n",
       "    }\n",
       "\n",
       "    .dataframe tbody tr th {\n",
       "        vertical-align: top;\n",
       "    }\n",
       "\n",
       "    .dataframe thead th {\n",
       "        text-align: right;\n",
       "    }\n",
       "</style>\n",
       "<table border=\"1\" class=\"dataframe\">\n",
       "  <thead>\n",
       "    <tr style=\"text-align: right;\">\n",
       "      <th></th>\n",
       "      <th>summary</th>\n",
       "      <th>id</th>\n",
       "      <th>date_time</th>\n",
       "      <th>site_name</th>\n",
       "      <th>posa_continent</th>\n",
       "      <th>user_location_country</th>\n",
       "      <th>user_location_region</th>\n",
       "      <th>user_location_city</th>\n",
       "      <th>orig_destination_distance</th>\n",
       "      <th>user_id</th>\n",
       "      <th>...</th>\n",
       "      <th>srch_ci</th>\n",
       "      <th>srch_co</th>\n",
       "      <th>srch_adults_cnt</th>\n",
       "      <th>srch_children_cnt</th>\n",
       "      <th>srch_rm_cnt</th>\n",
       "      <th>srch_destination_id</th>\n",
       "      <th>srch_destination_type_id</th>\n",
       "      <th>hotel_continent</th>\n",
       "      <th>hotel_country</th>\n",
       "      <th>hotel_market</th>\n",
       "    </tr>\n",
       "  </thead>\n",
       "  <tbody>\n",
       "    <tr>\n",
       "      <th>0</th>\n",
       "      <td>count</td>\n",
       "      <td>2528243</td>\n",
       "      <td>2528243</td>\n",
       "      <td>2528243</td>\n",
       "      <td>2528243</td>\n",
       "      <td>2528243</td>\n",
       "      <td>2528243</td>\n",
       "      <td>2528243</td>\n",
       "      <td>1680782</td>\n",
       "      <td>2528243</td>\n",
       "      <td>...</td>\n",
       "      <td>2528222</td>\n",
       "      <td>2528226</td>\n",
       "      <td>2528243</td>\n",
       "      <td>2528243</td>\n",
       "      <td>2528243</td>\n",
       "      <td>2528243</td>\n",
       "      <td>2528243</td>\n",
       "      <td>2528243</td>\n",
       "      <td>2528243</td>\n",
       "      <td>2528243</td>\n",
       "    </tr>\n",
       "    <tr>\n",
       "      <th>1</th>\n",
       "      <td>mean</td>\n",
       "      <td>1264121.0</td>\n",
       "      <td>None</td>\n",
       "      <td>9.70966556616591</td>\n",
       "      <td>2.697412788248598</td>\n",
       "      <td>85.51611929707705</td>\n",
       "      <td>317.0340683233376</td>\n",
       "      <td>27862.17806318459</td>\n",
       "      <td>1686.3979638184105</td>\n",
       "      <td>602645.9257690024</td>\n",
       "      <td>...</td>\n",
       "      <td>None</td>\n",
       "      <td>None</td>\n",
       "      <td>1.958126651591639</td>\n",
       "      <td>0.25074132510205704</td>\n",
       "      <td>1.117409995795499</td>\n",
       "      <td>16568.621168139296</td>\n",
       "      <td>2.941701806353266</td>\n",
       "      <td>3.022614914784694</td>\n",
       "      <td>81.25454277931354</td>\n",
       "      <td>646.4925847713214</td>\n",
       "    </tr>\n",
       "    <tr>\n",
       "      <th>2</th>\n",
       "      <td>stddev</td>\n",
       "      <td>729841.0326509465</td>\n",
       "      <td>None</td>\n",
       "      <td>12.271834283602896</td>\n",
       "      <td>0.7651287624994623</td>\n",
       "      <td>56.73879902333156</td>\n",
       "      <td>208.28338881273413</td>\n",
       "      <td>16687.877645606164</td>\n",
       "      <td>2197.361433047482</td>\n",
       "      <td>346965.11778565275</td>\n",
       "      <td>...</td>\n",
       "      <td>None</td>\n",
       "      <td>None</td>\n",
       "      <td>0.8980415286253776</td>\n",
       "      <td>0.6754566222733871</td>\n",
       "      <td>0.4615009555032746</td>\n",
       "      <td>12805.019853860984</td>\n",
       "      <td>2.282005929487735</td>\n",
       "      <td>1.6748793299399136</td>\n",
       "      <td>55.07528338943058</td>\n",
       "      <td>504.65298547297846</td>\n",
       "    </tr>\n",
       "    <tr>\n",
       "      <th>3</th>\n",
       "      <td>min</td>\n",
       "      <td>0</td>\n",
       "      <td>2015-01-08 00:00:35</td>\n",
       "      <td>0</td>\n",
       "      <td>0</td>\n",
       "      <td>0</td>\n",
       "      <td>0</td>\n",
       "      <td>0</td>\n",
       "      <td>0.0056</td>\n",
       "      <td>0</td>\n",
       "      <td>...</td>\n",
       "      <td>2015-01-04</td>\n",
       "      <td>2015-01-08</td>\n",
       "      <td>0</td>\n",
       "      <td>0</td>\n",
       "      <td>0</td>\n",
       "      <td>10</td>\n",
       "      <td>1</td>\n",
       "      <td>0</td>\n",
       "      <td>0</td>\n",
       "      <td>0</td>\n",
       "    </tr>\n",
       "    <tr>\n",
       "      <th>4</th>\n",
       "      <td>max</td>\n",
       "      <td>999999</td>\n",
       "      <td>2015-12-31 23:58:47</td>\n",
       "      <td>9</td>\n",
       "      <td>4</td>\n",
       "      <td>99</td>\n",
       "      <td>999</td>\n",
       "      <td>9999</td>\n",
       "      <td>9999.9851</td>\n",
       "      <td>999999</td>\n",
       "      <td>...</td>\n",
       "      <td>2161-10-00</td>\n",
       "      <td>2017-04-30</td>\n",
       "      <td>9</td>\n",
       "      <td>9</td>\n",
       "      <td>8</td>\n",
       "      <td>9999</td>\n",
       "      <td>9</td>\n",
       "      <td>6</td>\n",
       "      <td>99</td>\n",
       "      <td>999</td>\n",
       "    </tr>\n",
       "  </tbody>\n",
       "</table>\n",
       "<p>5 rows × 23 columns</p>\n",
       "</div>"
      ],
      "text/plain": [
       "  summary                 id            date_time           site_name  \\\n",
       "0   count            2528243              2528243             2528243   \n",
       "1    mean          1264121.0                 None    9.70966556616591   \n",
       "2  stddev  729841.0326509465                 None  12.271834283602896   \n",
       "3     min                  0  2015-01-08 00:00:35                   0   \n",
       "4     max             999999  2015-12-31 23:58:47                   9   \n",
       "\n",
       "       posa_continent user_location_country user_location_region  \\\n",
       "0             2528243               2528243              2528243   \n",
       "1   2.697412788248598     85.51611929707705    317.0340683233376   \n",
       "2  0.7651287624994623     56.73879902333156   208.28338881273413   \n",
       "3                   0                     0                    0   \n",
       "4                   4                    99                  999   \n",
       "\n",
       "   user_location_city orig_destination_distance             user_id  \\\n",
       "0             2528243                   1680782             2528243   \n",
       "1   27862.17806318459        1686.3979638184105   602645.9257690024   \n",
       "2  16687.877645606164         2197.361433047482  346965.11778565275   \n",
       "3                   0                    0.0056                   0   \n",
       "4                9999                 9999.9851              999999   \n",
       "\n",
       "          ...             srch_ci     srch_co     srch_adults_cnt  \\\n",
       "0         ...             2528222     2528226             2528243   \n",
       "1         ...                None        None   1.958126651591639   \n",
       "2         ...                None        None  0.8980415286253776   \n",
       "3         ...          2015-01-04  2015-01-08                   0   \n",
       "4         ...          2161-10-00  2017-04-30                   9   \n",
       "\n",
       "     srch_children_cnt         srch_rm_cnt srch_destination_id  \\\n",
       "0              2528243             2528243             2528243   \n",
       "1  0.25074132510205704   1.117409995795499  16568.621168139296   \n",
       "2   0.6754566222733871  0.4615009555032746  12805.019853860984   \n",
       "3                    0                   0                  10   \n",
       "4                    9                   8                9999   \n",
       "\n",
       "  srch_destination_type_id     hotel_continent      hotel_country  \\\n",
       "0                  2528243             2528243            2528243   \n",
       "1        2.941701806353266   3.022614914784694  81.25454277931354   \n",
       "2        2.282005929487735  1.6748793299399136  55.07528338943058   \n",
       "3                        1                   0                  0   \n",
       "4                        9                   6                 99   \n",
       "\n",
       "         hotel_market  \n",
       "0             2528243  \n",
       "1   646.4925847713214  \n",
       "2  504.65298547297846  \n",
       "3                   0  \n",
       "4                 999  \n",
       "\n",
       "[5 rows x 23 columns]"
      ]
     },
     "execution_count": 22,
     "metadata": {},
     "output_type": "execute_result"
    }
   ],
   "source": [
    "test.describe().toPandas()"
   ]
  },
  {
   "cell_type": "markdown",
   "metadata": {},
   "source": [
    "### 1.3 Missing data"
   ]
  },
  {
   "cell_type": "code",
   "execution_count": null,
   "metadata": {},
   "outputs": [],
   "source": []
  },
  {
   "cell_type": "markdown",
   "metadata": {},
   "source": [
    "## 2. Feature engineering"
   ]
  },
  {
   "cell_type": "markdown",
   "metadata": {},
   "source": [
    "For Exploratory Data Analysis (EDA), working with the large data, and especially visuallizing the data is almost impossible. Instead we will be using a random sample of 1 % of the data for EDA. "
   ]
  },
  {
   "cell_type": "code",
   "execution_count": 24,
   "metadata": {},
   "outputs": [],
   "source": [
    "sample_train_pd = train.sample(False, 0.01).toPandas()\n",
    "# only the users with is_booking = 1\n",
    "sample_trainB_pd = train.where(train.is_booking == 1).sample(False, 0.1).toPandas()\n",
    "# users with is_booking = 0\n",
    "sample_trainNB_pd = train.where(train.is_booking == 0).sample(False, 0.01).toPandas()"
   ]
  },
  {
   "cell_type": "code",
   "execution_count": 25,
   "metadata": {},
   "outputs": [],
   "source": [
    "test_pd = test.sample(False, 0.5).toPandas()"
   ]
  },
  {
   "cell_type": "markdown",
   "metadata": {},
   "source": [
    "The size of the sampled train data is:"
   ]
  },
  {
   "cell_type": "code",
   "execution_count": 26,
   "metadata": {},
   "outputs": [
    {
     "data": {
      "text/plain": [
       "(376911, 24)"
      ]
     },
     "execution_count": 26,
     "metadata": {},
     "output_type": "execute_result"
    }
   ],
   "source": [
    "sample_train_pd.shape"
   ]
  },
  {
   "cell_type": "code",
   "execution_count": 27,
   "metadata": {},
   "outputs": [
    {
     "name": "stdout",
     "output_type": "stream",
     "text": [
      "The ratio of booking to all in the sampled train data is 7.9334378672949315  %.\n"
     ]
    }
   ],
   "source": [
    "print(\"The ratio of booking to all in the sampled train data is\", len(sample_train_pd.loc[sample_train_pd['is_booking'] == 1]) / len(sample_train_pd) * 100, \" %.\")"
   ]
  },
  {
   "cell_type": "code",
   "execution_count": 28,
   "metadata": {},
   "outputs": [
    {
     "name": "stdout",
     "output_type": "stream",
     "text": [
      "The ration of booking to all in all train data is 7.965674702875288 %.\n"
     ]
    }
   ],
   "source": [
    "print(\"The ration of booking to all in all train data is\", train.where(train.is_booking == 1).count() / train[train.is_booking.isNotNull()].count() * 100, '%.')"
   ]
  },
  {
   "cell_type": "code",
   "execution_count": null,
   "metadata": {},
   "outputs": [],
   "source": [
    "sns.barplot(x = 'is_package', y = 'is_booking', data=sample_train_pd)"
   ]
  },
  {
   "cell_type": "code",
   "execution_count": null,
   "metadata": {},
   "outputs": [],
   "source": [
    "plt.subplots(1, 2, figsize = (15, 5))\n",
    "plt.subplot(1, 2, 1)\n",
    "plt.hist(sample_trainB_pd['hotel_cluster'], bins = range(0, 99), density = True)\n",
    "plt.title('Only clicks data')\n",
    "plt.xlabel('Hotel Clusters')\n",
    "plt.subplot(1, 2, 2)\n",
    "plt.hist(sample_trainNB_pd['hotel_cluster'], bins = range(0, 99), density= True)\n",
    "plt.title('Only booking data')\n",
    "plt.xlabel('Hotel Clusters')"
   ]
  },
  {
   "cell_type": "markdown",
   "metadata": {},
   "source": [
    "The distribution of the selected hotel clusters in the only-book-data is different from only-click-data. Given that the test data is only on booking data, the question is should we only use only-book-data? To better answer this question, we do a more systematic comparison between only-book and only-click data."
   ]
  },
  {
   "cell_type": "code",
   "execution_count": null,
   "metadata": {},
   "outputs": [],
   "source": [
    "hotel_cluster_hist_B = np.histogram(sample_trainB_pd['hotel_cluster'], bins = range(99), density=True)\n",
    "hotel_cluster_hist_NB = np.histogram(sample_trainNB_pd['hotel_cluster'], bins = range(99), density = True)"
   ]
  },
  {
   "cell_type": "code",
   "execution_count": null,
   "metadata": {},
   "outputs": [],
   "source": [
    "hotel_cluster_hist_B"
   ]
  },
  {
   "cell_type": "code",
   "execution_count": null,
   "metadata": {},
   "outputs": [],
   "source": [
    "plt.plot(100 * (hotel_cluster_hist_B[0] - hotel_cluster_hist_NB[0]) / hotel_cluster_hist_B[0], '.-')\n",
    "plt.title('Percentage difference between only-clicks and only-book clusters')"
   ]
  },
  {
   "cell_type": "code",
   "execution_count": null,
   "metadata": {},
   "outputs": [],
   "source": [
    "clusterB = sample_trainB_pd['hotel_cluster'].value_counts(normalize = True).sort_index()\n",
    "clusterNB = sample_trainNB_pd['hotel_cluster'].value_counts(normalize = True).sort_index()\n",
    "\n",
    "plt.subplots(1, 2, figsize = (15, 5))\n",
    "plt.subplot(1, 2, 1)\n",
    "plt.plot(clusterB, '.-')\n",
    "plt.plot(clusterNB, '.-')\n",
    "plt.subplot(1, 2, 2)\n",
    "plt.plot((clusterNB - clusterB) / clusterB * 100, '.-')"
   ]
  },
  {
   "cell_type": "code",
   "execution_count": null,
   "metadata": {},
   "outputs": [],
   "source": [
    "for i in range(len(test_pd['user_id'])):\n",
    "    for j in range(len(sample_train_pd['user_id'])):\n",
    "        if (test_pd['user_id'][i] == sample_train_pd['user_id'][j]):\n",
    "            print(i, j)"
   ]
  },
  {
   "cell_type": "code",
   "execution_count": null,
   "metadata": {},
   "outputs": [],
   "source": [
    "trainB = train.where(train.is_booking == 1)\n",
    "# Equivalently I could use the following statement SQL query\n",
    "# sqlContext.registerDataFrameAsTable(df = train, tableName=\"train\")\n",
    "# trainB = sqlContext.sql(\"SELECT * FROM train WHERE is_booking == 1\")"
   ]
  },
  {
   "cell_type": "code",
   "execution_count": null,
   "metadata": {},
   "outputs": [],
   "source": [
    "trainB.count()"
   ]
  },
  {
   "cell_type": "code",
   "execution_count": null,
   "metadata": {},
   "outputs": [],
   "source": [
    "train_cnt_array = train.select('cnt').rdd.map(lambda row : row.cnt).sample(False, 0.0001).collect()"
   ]
  },
  {
   "cell_type": "markdown",
   "metadata": {},
   "source": [
    "## 3. ML models and predictions"
   ]
  },
  {
   "cell_type": "code",
   "execution_count": null,
   "metadata": {
    "scrolled": true
   },
   "outputs": [],
   "source": [
    "train_sp = train_sp.withColumn('is_booking', train_sp['is_booking'].astype(\"float\"))"
   ]
  },
  {
   "cell_type": "code",
   "execution_count": null,
   "metadata": {},
   "outputs": [],
   "source": [
    "train_sp[['is_booking']].describe().toPandas()"
   ]
  },
  {
   "cell_type": "code",
   "execution_count": null,
   "metadata": {},
   "outputs": [],
   "source": [
    "train_sp.where(col('is_booking').isNull())"
   ]
  },
  {
   "cell_type": "code",
   "execution_count": null,
   "metadata": {},
   "outputs": [],
   "source": [
    "train_sp.columns"
   ]
  },
  {
   "cell_type": "code",
   "execution_count": null,
   "metadata": {},
   "outputs": [],
   "source": [
    "test = pd.read_csv('../data/input/test.csv')"
   ]
  },
  {
   "cell_type": "code",
   "execution_count": null,
   "metadata": {},
   "outputs": [],
   "source": [
    "chunksize = 1 * 10 ** 6\n",
    "train_reader = pd.read_csv('../data/input/train.csv', chunksize=chunksize)"
   ]
  },
  {
   "cell_type": "code",
   "execution_count": null,
   "metadata": {},
   "outputs": [],
   "source": [
    "all_chunks = []\n",
    "i = 0\n",
    "for chunk in train_reader:\n",
    "    all_chunks.append(chunk)\n",
    "    print(i)\n",
    "    i += 1"
   ]
  },
  {
   "cell_type": "code",
   "execution_count": null,
   "metadata": {},
   "outputs": [],
   "source": [
    "train = pd.DataFrame()"
   ]
  },
  {
   "cell_type": "code",
   "execution_count": null,
   "metadata": {},
   "outputs": [],
   "source": [
    "import time"
   ]
  },
  {
   "cell_type": "code",
   "execution_count": null,
   "metadata": {},
   "outputs": [],
   "source": [
    "for i in range(5, 10):\n",
    "    start_time = time.time()\n",
    "    train = pd.concat(objs = [train, all_chunks[i]], axis = 0).reset_index(drop = True)\n",
    "    end_time = time.time()\n",
    "    print(i)\n",
    "    print(end_time - start_time)"
   ]
  },
  {
   "cell_type": "code",
   "execution_count": null,
   "metadata": {},
   "outputs": [],
   "source": [
    "train.head()"
   ]
  }
 ],
 "metadata": {
  "kernelspec": {
   "display_name": "Python 3",
   "language": "python",
   "name": "python3"
  },
  "language_info": {
   "codemirror_mode": {
    "name": "ipython",
    "version": 3
   },
   "file_extension": ".py",
   "mimetype": "text/x-python",
   "name": "python",
   "nbconvert_exporter": "python",
   "pygments_lexer": "ipython3",
   "version": "3.5.2"
  }
 },
 "nbformat": 4,
 "nbformat_minor": 2
}
